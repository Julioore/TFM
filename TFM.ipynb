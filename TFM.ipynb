{
  "nbformat": 4,
  "nbformat_minor": 0,
  "metadata": {
    "colab": {
      "provenance": [],
      "include_colab_link": true
    },
    "kernelspec": {
      "name": "python3",
      "display_name": "Python 3"
    },
    "language_info": {
      "name": "python"
    }
  },
  "cells": [
    {
      "cell_type": "markdown",
      "metadata": {
        "id": "view-in-github",
        "colab_type": "text"
      },
      "source": [
        "<a href=\"https://colab.research.google.com/github/Julioore/TFM/blob/main/TFM.ipynb\" target=\"_parent\"><img src=\"https://colab.research.google.com/assets/colab-badge.svg\" alt=\"Open In Colab\"/></a>"
      ]
    },
    {
      "cell_type": "markdown",
      "source": [
        "# Valoración de opciones financieras\n",
        "* Método Binomial\n",
        "* Método de Black-Scholes\n",
        "* Convergencia entre ambos métodos\n",
        "* Gráfico de convergencia"
      ],
      "metadata": {
        "id": "_qbqSzP2TNVZ"
      }
    },
    {
      "cell_type": "code",
      "source": [
        "import numpy as np                              # importamos las librerías\n",
        "from scipy.stats import binom\n",
        "from scipy.stats import norm\n",
        "import matplotlib as mpl\n",
        "import matplotlib.pyplot as plt\n",
        "\n",
        "# Fórmula para método de valoración opciones europeas mediante árbol binomial\n",
        "\n",
        "def prima(tipo, spot, strik, anyos, volatilidad, n, tInt):\n",
        "    r = np.log(1+tInt)                          # r es el tanto instantáneo\n",
        "    deltaT = anyos / n\n",
        "    u = np.exp(volatilidad * np.sqrt(deltaT))\n",
        "    d = 1/u\n",
        "    p = (np.exp(r*deltaT)-d) / (u-d)\n",
        "    Sn = [0]*(n+1)                              # Sn es la lista de precios del activo subyacene a fecha de vto.\n",
        "    payoff = [0]*(n+1)                          # inicilizamos a cero la lista del payoff\n",
        "    prima = 0\n",
        "    for i in range(n+1):\n",
        "        Sn[i] = spot * u**(n-i) * d**i\n",
        "        if tipo.lower() == 'call':\n",
        "            payoff[i] = max(0, Sn[i] - strik)\n",
        "        if tipo.lower() == 'put':\n",
        "            payoff[i] = max(0, strik - Sn[i])\n",
        "        prima += payoff[i] * binom.pmf(n-i, n, p)\n",
        "    prima *= np.exp(-r * anyos)                 # descontamos a valor actual, hasta t=0\n",
        "    return prima\n",
        "\n",
        "# Fórmula para método de Black-Scholes\n",
        "\n",
        "def primaBS(tipo, spot, strik, anyos, volatilidad, tInt):\n",
        "    r = np.log(1+tInt)                          # r es el tanto instantáneo\n",
        "    d1 = (np.log(spot/strik) + (r + 0.5 * volatilidad**2) * anyos) / (volatilidad * np.sqrt(anyos))\n",
        "    d2 = d1 - volatilidad * np.sqrt(anyos)\n",
        "    if tipo.lower() == 'call':\n",
        "      primaBS = spot * norm.cdf(d1) - strik * np.exp(-r * anyos) * norm.cdf(d2)\n",
        "    if tipo.lower() == 'put':\n",
        "      primaBS = strik * np.exp(-r * anyos) * norm.cdf(-d2) - spot * norm.cdf(-d1)\n",
        "    return primaBS\n",
        "\n",
        "# Representamos gráficamente la valoración por el método binomial\n",
        "# Cuando el número de pasos del método binomial tiende a infinito el \n",
        "# valor teórico obtenido coincide con el que proporciona el método de Black-Scholes\n",
        "\n",
        "m = 200                                   # Calcularemos el arbol desde 1 hasta m pasos\n",
        "evolucion = [0]*(m)\n",
        "for j in range(m):\n",
        "    evolucion[j] = prima('call', 100, 110, 2, 0.2, j+1, 0.07)\n",
        "\n",
        "fig = plt.figure(figsize=(10, 8))\n",
        "ax = fig.add_subplot(111)\n",
        "last = 1\n",
        "bound = m\n",
        "ax.plot(evolucion)\n",
        "fig.savefig('graph.png')\n",
        "print('Prima(1)=', evolucion[0])\n",
        "print('Prima(2)=', evolucion[1])\n",
        "print('Prima(3)=', evolucion[2])\n",
        "print('Prima(4)=', evolucion[3])\n",
        "print('Prima('+str(m)+')=', evolucion[m-1])\n",
        "print()\n",
        "BS = primaBS('call', 100, 110, 2, 0.2, 0.07)\n",
        "print('Prima Black-Scholes=', BS)\n",
        "print()"
      ],
      "metadata": {
        "id": "6KjZQy1UU6Jj"
      },
      "execution_count": null,
      "outputs": []
    },
    {
      "cell_type": "code",
      "source": [
        "# Analizamos la convergencia entre ambos métodos\n",
        "# y representamos el gráfico de convergencia\n",
        "# Se comprueba que cuando el número de pasos del método binomial tiende a infinito \n",
        "# la diferencia entre el valor teórico obtenido y el valor que proporciona el \n",
        "# método de Black-Scholes tiende a 0.\n",
        "\n",
        "\n",
        "m = 200                                   \n",
        "diferencia = [0]*(m)\n",
        "for j in range(m):\n",
        "    diferencia[j] = evolucion[j] - BS\n",
        "   # print(j+1, evolucion[j], BS, diferencia[j])\n",
        "\n",
        "\n",
        "fig = plt.figure(figsize=(10, 8))\n",
        "ax = fig.add_subplot(111)\n",
        "last = 1\n",
        "bound = m\n",
        "ax.plot(diferencia)\n",
        "fig.savefig('graph.png')"
      ],
      "metadata": {
        "id": "lSRZEaKOWigC"
      },
      "execution_count": null,
      "outputs": []
    },
    {
      "cell_type": "markdown",
      "source": [
        "# Diseño de estrategias con opciones financieras\n",
        "\n"
      ],
      "metadata": {
        "id": "qfX83OyqTDjP"
      }
    },
    {
      "cell_type": "code",
      "source": [
        "# Datos de entrada\n",
        "numA                                            # número de contratos de la opción A\n",
        "operacionA                                      # tipo de operación: compra o venta\n",
        "tipoA                                           # tipo de opción: CALL o PUT\n",
        "strikA                                          # precio de ejercicio de la opción A\n",
        "primaA                                          # importe de la prima de la opción A\n",
        "numB\n",
        "operacionB\n",
        "tipoB\n",
        "strikB\n",
        "primaB\n",
        "numC\n",
        "operacionC\n",
        "tipoC\n",
        "strikC\n",
        "primaC\n",
        "numD\n",
        "operacionD\n",
        "tipoD\n",
        "strikD\n",
        "primaD\n",
        "\n",
        "# Evolución de precios del activo subyacente\n",
        "start=80\n",
        "stop=141\n",
        "\n",
        "subyacente = list(range(start,stop))\n",
        "print(subyacente)\n",
        "\n",
        "# Evolución precios subyacente para opción A\n",
        "subyacenteA=[0]*(stop-start)\n",
        "if tipoA.lower()=='call':\n",
        "  for i in range(stop-start):\n",
        "    subyacenteA[i] = subyacente[i]\n",
        "else:\n",
        "  for i in range(stop-start):\n",
        "    subyacenteA[i] = strikA - subyacente[i] + strikA\n",
        "print(subyacenteA)\n",
        "\n",
        "# Evolución precios subyacente para opción B\n",
        "subyacenteB=[0]*(stop-start)\n",
        "if tipoB.lower()=='call':\n",
        "  for i in range(stop-start):\n",
        "    subyacenteB[i] = subyacente[i]\n",
        "else:\n",
        "  for i in range(stop-start):\n",
        "    subyacenteB[i] = strikB - subyacente[i] + strikB\n",
        "print(subyacenteB)\n",
        "\n",
        "# Evolución precios subyacente para opción C\n",
        "subyacenteC=[0]*(stop-start)\n",
        "if tipoC.lower()=='call':\n",
        "  for i in range(stop-start):\n",
        "    subyacenteC[i] = subyacente[i]\n",
        "else:\n",
        "  for i in range(stop-start):\n",
        "    subyacenteC[i] = strikC - subyacente[i] + strikC\n",
        "print(subyacenteC)\n",
        "\n",
        "# Evolución precios subyacente para opción D\n",
        "subyacenteD=[0]*(stop-start)\n",
        "if tipoD.lower()=='call':\n",
        "  for i in range(stop-start):\n",
        "    subyacenteC[i] = subyacente[i]\n",
        "else:\n",
        "  for i in range(stop-start):\n",
        "    subyacenteD[i] = strikD - subyacente[i] + strikD\n",
        "print(subyacenteD)\n",
        "\n"
      ],
      "metadata": {
        "id": "0TPR6OC4TXrs"
      },
      "execution_count": null,
      "outputs": []
    },
    {
      "cell_type": "code",
      "source": [
        "strikA=90\n",
        "start=80\n",
        "stop=141\n",
        "subyacente = list(range(start,stop))\n",
        "print(subyacente)\n",
        "subyacenteA=[0]*(stop-start)\n",
        "for i in range(stop-start):\n",
        "  subyacenteA[i] = strikA - subyacente[i] + strikA\n",
        "print(subyacenteA)"
      ],
      "metadata": {
        "id": "Pvfq84qjZ_qt",
        "outputId": "69460682-fff2-4fc5-d25a-f3343c05066c",
        "colab": {
          "base_uri": "https://localhost:8080/"
        }
      },
      "execution_count": 27,
      "outputs": [
        {
          "output_type": "stream",
          "name": "stdout",
          "text": [
            "[80, 81, 82, 83, 84, 85, 86, 87, 88, 89, 90, 91, 92, 93, 94, 95, 96, 97, 98, 99, 100, 101, 102, 103, 104, 105, 106, 107, 108, 109, 110, 111, 112, 113, 114, 115, 116, 117, 118, 119, 120, 121, 122, 123, 124, 125, 126, 127, 128, 129, 130, 131, 132, 133, 134, 135, 136, 137, 138, 139, 140]\n",
            "[100, 99, 98, 97, 96, 95, 94, 93, 92, 91, 90, 89, 88, 87, 86, 85, 84, 83, 82, 81, 80, 79, 78, 77, 76, 75, 74, 73, 72, 71, 70, 69, 68, 67, 66, 65, 64, 63, 62, 61, 60, 59, 58, 57, 56, 55, 54, 53, 52, 51, 50, 49, 48, 47, 46, 45, 44, 43, 42, 41, 40]\n"
          ]
        }
      ]
    },
    {
      "cell_type": "code",
      "source": [
        "tipoA='put'\n",
        "strikA=90\n",
        "# Evolución de precios del activo subyacente\n",
        "start=80\n",
        "stop=141\n",
        "\n",
        "subyacente = list(range(start,stop))\n",
        "print(subyacente)\n",
        "\n",
        "subyacenteA=[0]*(stop-start)\n",
        "if tipoA.lower()=='call':\n",
        "  for i in range(stop-start):\n",
        "    subyacenteA[i] = subyacente[i]\n",
        "else:\n",
        "  for i in range(stop-start):\n",
        "    subyacenteA[i] = strikA - subyacente[i] + strikA\n",
        "print(subyacenteA)"
      ],
      "metadata": {
        "id": "U4Zi1F6dnyjd",
        "outputId": "5ded51f6-a0e3-4790-bca3-cf16cad0f513",
        "colab": {
          "base_uri": "https://localhost:8080/"
        }
      },
      "execution_count": 29,
      "outputs": [
        {
          "output_type": "stream",
          "name": "stdout",
          "text": [
            "[80, 81, 82, 83, 84, 85, 86, 87, 88, 89, 90, 91, 92, 93, 94, 95, 96, 97, 98, 99, 100, 101, 102, 103, 104, 105, 106, 107, 108, 109, 110, 111, 112, 113, 114, 115, 116, 117, 118, 119, 120, 121, 122, 123, 124, 125, 126, 127, 128, 129, 130, 131, 132, 133, 134, 135, 136, 137, 138, 139, 140]\n",
            "[100, 99, 98, 97, 96, 95, 94, 93, 92, 91, 90, 89, 88, 87, 86, 85, 84, 83, 82, 81, 80, 79, 78, 77, 76, 75, 74, 73, 72, 71, 70, 69, 68, 67, 66, 65, 64, 63, 62, 61, 60, 59, 58, 57, 56, 55, 54, 53, 52, 51, 50, 49, 48, 47, 46, 45, 44, 43, 42, 41, 40]\n"
          ]
        }
      ]
    }
  ]
}