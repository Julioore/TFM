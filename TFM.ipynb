{
  "nbformat": 4,
  "nbformat_minor": 0,
  "metadata": {
    "colab": {
      "provenance": [],
      "authorship_tag": "ABX9TyMiech7xVGbmI+P1e3s6zmI",
      "include_colab_link": true
    },
    "kernelspec": {
      "name": "python3",
      "display_name": "Python 3"
    },
    "language_info": {
      "name": "python"
    }
  },
  "cells": [
    {
      "cell_type": "markdown",
      "metadata": {
        "id": "view-in-github",
        "colab_type": "text"
      },
      "source": [
        "<a href=\"https://colab.research.google.com/github/Julioore/TFM/blob/main/TFM.ipynb\" target=\"_parent\"><img src=\"https://colab.research.google.com/assets/colab-badge.svg\" alt=\"Open In Colab\"/></a>"
      ]
    },
    {
      "cell_type": "markdown",
      "source": [
        "# Valoración de opciones financieras\n",
        "* Método Binomial\n",
        "* Método de Black-Scholes\n",
        "* Convergencia entre ambos métodos\n",
        "* Gráfico de convergencia"
      ],
      "metadata": {
        "id": "_qbqSzP2TNVZ"
      }
    },
    {
      "cell_type": "code",
      "source": [
        "import numpy as np                              # importamos las librerías\n",
        "from scipy.stats import binom\n",
        "from scipy.stats import norm\n",
        "import matplotlib as mpl\n",
        "import matplotlib.pyplot as plt\n",
        "\n",
        "# Fórmula para método de valoración opciones europeas mediante árbol binomial\n",
        "\n",
        "def prima(tipo, spot, strik, anyos, volatilidad, n, tInt):\n",
        "    r = np.log(1+tInt)                          # r es el tanto instantáneo\n",
        "    deltaT = anyos / n\n",
        "    u = np.exp(volatilidad * np.sqrt(deltaT))\n",
        "    d = 1/u\n",
        "    p = (np.exp(r*deltaT)-d) / (u-d)\n",
        "    Sn = [0]*(n+1)                              # Sn es la lista de precios del activo subyacene a fecha de vto.\n",
        "    payoff = [0]*(n+1)                          # inicilizamos a cero la lista del payoff\n",
        "    prima = 0\n",
        "    for i in range(n+1):\n",
        "        Sn[i] = spot * u**(n-i) * d**i\n",
        "        if tipo.lower() == 'call':\n",
        "            payoff[i] = max(0, Sn[i] - strik)\n",
        "        if tipo.lower() == 'put':\n",
        "            payoff[i] = max(0, strik - Sn[i])\n",
        "        prima += payoff[i] * binom.pmf(n-i, n, p)\n",
        "    prima *= np.exp(-r * anyos)                 # descontamos a valor actual, hasta t=0\n",
        "    return prima\n",
        "\n",
        "# Fórmula para método de Black-Scholes\n",
        "\n",
        "def primaBS(tipo, spot, strik, anyos, volatilidad, tInt):\n",
        "    r = np.log(1+tInt)                          # r es el tanto instantáneo\n",
        "    d1 = (np.log(spot/strik) + (r + 0.5 * volatilidad**2) * anyos) / (volatilidad * np.sqrt(anyos))\n",
        "    d2 = d1 - volatilidad * np.sqrt(anyos)\n",
        "    if tipo.lower() == 'call':\n",
        "      primaBS = spot * norm.cdf(d1) - strik * np.exp(-r * anyos) * norm.cdf(d2)\n",
        "    if tipo.lower() == 'put':\n",
        "      primaBS = strik * np.exp(-r * anyos) * norm.cdf(-d2) - spot * norm.cdf(-d1)\n",
        "    return primaBS\n",
        "\n",
        "# Representamos gráficamente la valoración por el método binomial\n",
        "# Cuando el número de pasos del método binomial tiende a infinito el \n",
        "# valor teórico obtenido coincide con el que proporciona el método de Black-Scholes\n",
        "\n",
        "m = 200                                   # Calcularemos el arbol desde 1 hasta m pasos\n",
        "evolucion = [0]*(m)\n",
        "for j in range(m):\n",
        "    evolucion[j] = prima('call', 100, 110, 2, 0.2, j+1, 0.07)\n",
        "\n",
        "fig = plt.figure(figsize=(10, 8))\n",
        "ax = fig.add_subplot(111)\n",
        "last = 1\n",
        "bound = m\n",
        "ax.plot(evolucion)\n",
        "fig.savefig('graph.png')\n",
        "print('Prima(1)=', evolucion[0])\n",
        "print('Prima(2)=', evolucion[1])\n",
        "print('Prima(3)=', evolucion[2])\n",
        "print('Prima(4)=', evolucion[3])\n",
        "print('Prima('+str(m)+')=', evolucion[m-1])\n",
        "print()\n",
        "BS = primaBS('call', 100, 110, 2, 0.2, 0.07)\n",
        "print('Prima Black-Scholes=', BS)\n",
        "print()"
      ],
      "metadata": {
        "id": "6KjZQy1UU6Jj"
      },
      "execution_count": null,
      "outputs": []
    },
    {
      "cell_type": "code",
      "source": [
        "# Analizamos la convergencia entre ambos métodos\n",
        "# y representamos el gráfico de convergencia\n",
        "# Se comprueba que cuando el número de pasos del método binomial tiende a infinito \n",
        "# la diferencia entre el valor teórico obtenido y el valor que proporciona el \n",
        "# método de Black-Scholes tiende a 0.\n",
        "\n",
        "\n",
        "m = 200                                   \n",
        "diferencia = [0]*(m)\n",
        "for j in range(m):\n",
        "    diferencia[j] = evolucion[j] - BS\n",
        "   # print(j+1, evolucion[j], BS, diferencia[j])\n",
        "\n",
        "\n",
        "fig = plt.figure(figsize=(10, 8))\n",
        "ax = fig.add_subplot(111)\n",
        "last = 1\n",
        "bound = m\n",
        "ax.plot(diferencia)\n",
        "fig.savefig('graph.png')"
      ],
      "metadata": {
        "id": "lSRZEaKOWigC"
      },
      "execution_count": null,
      "outputs": []
    }
  ]
}