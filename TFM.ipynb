{
  "nbformat": 4,
  "nbformat_minor": 0,
  "metadata": {
    "colab": {
      "provenance": [],
      "include_colab_link": true
    },
    "kernelspec": {
      "name": "python3",
      "display_name": "Python 3"
    },
    "language_info": {
      "name": "python"
    }
  },
  "cells": [
    {
      "cell_type": "markdown",
      "metadata": {
        "id": "view-in-github",
        "colab_type": "text"
      },
      "source": [
        "<a href=\"https://colab.research.google.com/github/Julioore/TFM/blob/main/TFM.ipynb\" target=\"_parent\"><img src=\"https://colab.research.google.com/assets/colab-badge.svg\" alt=\"Open In Colab\"/></a>"
      ]
    },
    {
      "cell_type": "markdown",
      "source": [
        "# Valoración de opciones financieras\n",
        "* Método Binomial\n",
        "* Método de Black-Scholes\n",
        "* Convergencia entre ambos métodos\n",
        "* Gráfico de convergencia"
      ],
      "metadata": {
        "id": "_qbqSzP2TNVZ"
      }
    },
    {
      "cell_type": "code",
      "source": [
        "import numpy as np                              # importamos las librerías\n",
        "from scipy.stats import binom\n",
        "from scipy.stats import norm\n",
        "import matplotlib as mpl\n",
        "import matplotlib.pyplot as plt\n",
        "\n",
        "# Fórmula para método de valoración opciones europeas mediante árbol binomial\n",
        "\n",
        "def prima(tipo, spot, strik, anyos, volatilidad, n, tInt):\n",
        "    r = np.log(1+tInt)                          # r es el tanto instantáneo\n",
        "    deltaT = anyos / n\n",
        "    u = np.exp(volatilidad * np.sqrt(deltaT))\n",
        "    d = 1/u\n",
        "    p = (np.exp(r*deltaT)-d) / (u-d)\n",
        "    Sn = [0]*(n+1)                              # Sn es la lista de precios del activo subyacene a fecha de vto.\n",
        "    payoff = [0]*(n+1)                          # inicilizamos a cero la lista del payoff\n",
        "    prima = 0\n",
        "    for i in range(n+1):\n",
        "        Sn[i] = spot * u**(n-i) * d**i\n",
        "        if tipo.lower() == 'call':\n",
        "            payoff[i] = max(0, Sn[i] - strik)\n",
        "        if tipo.lower() == 'put':\n",
        "            payoff[i] = max(0, strik - Sn[i])\n",
        "        prima += payoff[i] * binom.pmf(n-i, n, p)\n",
        "    prima *= np.exp(-r * anyos)                 # descontamos a valor actual, hasta t=0\n",
        "    return prima\n",
        "\n",
        "# Fórmula para método de Black-Scholes\n",
        "\n",
        "def primaBS(tipo, spot, strik, anyos, volatilidad, tInt):\n",
        "    r = np.log(1+tInt)                          # r es el tanto instantáneo\n",
        "    d1 = (np.log(spot/strik) + (r + 0.5 * volatilidad**2) * anyos) / (volatilidad * np.sqrt(anyos))\n",
        "    d2 = d1 - volatilidad * np.sqrt(anyos)\n",
        "    if tipo.lower() == 'call':\n",
        "      primaBS = spot * norm.cdf(d1) - strik * np.exp(-r * anyos) * norm.cdf(d2)\n",
        "    if tipo.lower() == 'put':\n",
        "      primaBS = strik * np.exp(-r * anyos) * norm.cdf(-d2) - spot * norm.cdf(-d1)\n",
        "    return primaBS\n",
        "\n",
        "# Representamos gráficamente la valoración por el método binomial\n",
        "# Cuando el número de pasos del método binomial tiende a infinito el \n",
        "# valor teórico obtenido coincide con el que proporciona el método de Black-Scholes\n",
        "\n",
        "m = 200                                   # Calcularemos el arbol desde 1 hasta m pasos\n",
        "evolucion = [0]*(m)\n",
        "for j in range(m):\n",
        "    evolucion[j] = prima('call', 100, 110, 2, 0.2, j+1, 0.07)\n",
        "\n",
        "fig = plt.figure(figsize=(10, 8))\n",
        "ax = fig.add_subplot(111)\n",
        "last = 1\n",
        "bound = m\n",
        "ax.plot(evolucion)\n",
        "fig.savefig('graph.png')\n",
        "print('Prima(1)=', evolucion[0])\n",
        "print('Prima(2)=', evolucion[1])\n",
        "print('Prima(3)=', evolucion[2])\n",
        "print('Prima(4)=', evolucion[3])\n",
        "print('Prima('+str(m)+')=', evolucion[m-1])\n",
        "print()\n",
        "BS = primaBS('call', 100, 110, 2, 0.2, 0.07)\n",
        "print('Prima Black-Scholes=', BS)\n",
        "print()"
      ],
      "metadata": {
        "id": "6KjZQy1UU6Jj"
      },
      "execution_count": null,
      "outputs": []
    },
    {
      "cell_type": "code",
      "source": [
        "# Analizamos la convergencia entre ambos métodos\n",
        "# y representamos el gráfico de convergencia\n",
        "# Se comprueba que cuando el número de pasos del método binomial tiende a infinito \n",
        "# la diferencia entre el valor teórico obtenido y el valor que proporciona el \n",
        "# método de Black-Scholes tiende a 0.\n",
        "\n",
        "\n",
        "m = 200                                   \n",
        "diferencia = [0]*(m)\n",
        "for j in range(m):\n",
        "    diferencia[j] = evolucion[j] - BS\n",
        "   # print(j+1, evolucion[j], BS, diferencia[j])\n",
        "\n",
        "\n",
        "fig = plt.figure(figsize=(10, 8))\n",
        "ax = fig.add_subplot(111)\n",
        "last = 1\n",
        "bound = m\n",
        "ax.plot(diferencia)\n",
        "fig.savefig('graph.png')"
      ],
      "metadata": {
        "id": "lSRZEaKOWigC"
      },
      "execution_count": null,
      "outputs": []
    },
    {
      "cell_type": "markdown",
      "source": [
        "# Diseño de estrategias con opciones financieras\n",
        "\n"
      ],
      "metadata": {
        "id": "qfX83OyqTDjP"
      }
    },
    {
      "cell_type": "code",
      "source": [
        "# Datos de entrada para la opción A\n",
        "numA = float(input('Número de contratos opción A: ') or 1)    # número de contratos de la opción A\n",
        "print('Número opciones A=', numA)                                                      \n",
        "operacionA = input('Operación con opción A: Compra o Venta. ') or 'Compra'   # tipo de operación: compra o venta\n",
        "if operacionA.lower() == 'compra':\n",
        "    print('Tipo de operación de la opción A: Compra')\n",
        "else:\n",
        "    print('Tipo de operación de la opción A: Venta')                                                    \n",
        "tipoA = input('Tipo de opción: Call o Put. ') or 'Call'       # tipo de opción: CALL o PUT\n",
        "if tipoA.lower() == 'call':\n",
        "    print('Tipo de la opción A: CALL')\n",
        "else:\n",
        "    print('Tipo de la opción A: PUT')                     \n",
        "strikA = float(input('Precio de ejercicio opción A: ') or 90) # precio de ejercicio de la opción A\n",
        "print('Precio de ejercicio opción A=', strikA)                                                        \n",
        "primaA = float(input('Prima de la opción A: ') or 8)          # importe de la prima de la opción A\n",
        "print('Prima de la opción A=', primaA)\n",
        "print()                                                        \n",
        "\n",
        "# Datos de entrada para la opción B                           # idem para opción B\n",
        "numB = float(input('Número de contratos opción B: ') or 1)    \n",
        "print('Número opciones B=', numB)                                                          \n",
        "operacionB = input('Operación con opción B: Compra o Venta. ') or 'Compra'   \n",
        "if operacionB.lower() == 'compra':\n",
        "    print('Tipo de operación de la opción B: Compra')\n",
        "else:\n",
        "    print('Tipo de operación de la opción B: Venta') \n",
        "tipoB = input('Tipo de opción: Call o Put. ') or 'Call'\n",
        "if tipoB.lower() == 'call':\n",
        "    print('Tipo de la opción B: CALL')\n",
        "else:\n",
        "    print('Tipo de la opción B: PUT')\n",
        "strikB = float(input('Precio de ejercicio opción B: ') or 100)  \n",
        "print('Precio de ejercicio opción B=', strikB) \n",
        "primaB = float(input('Prima de la opción B: ') or 6)          \n",
        "print('Prima de la opción B=', primaB)\n",
        "print()\n",
        "\n",
        "# Datos de entrada para la opción C                            # idem para opción C\n",
        "numC = float(input('Número de contratos opción C: ') or 1)    \n",
        "print('Número opciones C=', numC)                                                                     \n",
        "operacionC = input('Operación con opción C: Compra o Venta. ') or 'Compra'   \n",
        "if operacionC.lower() == 'compra':\n",
        "    print('Tipo de operación de la opción C: Compra')\n",
        "else:\n",
        "    print('Tipo de operación de la opción C: Venta') \n",
        "tipoC = input('Tipo de opción: Call o Put. ') or 'Call'\n",
        "if tipoC.lower() == 'call':\n",
        "    print('Tipo de la opción C: CALL')\n",
        "else:\n",
        "    print('Tipo de la opción C: PUT')\n",
        "strikC = float(input('Precio de ejercicio opción C: ') or 120)  \n",
        "print('Precio de ejercicio opción C=', strikC) \n",
        "primaC = float(input('Prima de la opción C: ') or 6)          \n",
        "print('Prima de la opción C=', primaC)\n",
        "print()\n",
        "\n",
        "# Datos de entrada para la opción D                            # idem para opción D\n",
        "numD = float(input('Número de contratos opción D: ') or 1)    \n",
        "print('Número opciones D=', numD)                              \n",
        "operacionD = input('Operación con opción D: Compra o Venta. ') or 'Compra'   \n",
        "if operacionD.lower() == 'compra':\n",
        "    print('Tipo de operación de la opción D: Compra')\n",
        "else:\n",
        "    print('Tipo de operación de la opción D: Venta') \n",
        "tipoD = input('Tipo de opción: Call o Put. ') or 'Call'\n",
        "if tipoD.lower() == 'call':\n",
        "    print('Tipo de la opción D: CALL')\n",
        "else:\n",
        "    print('Tipo de la opción D: PUT')\n",
        "strikD = float(input('Precio de ejercicio opción D: ') or 130)  \n",
        "print('Precio de ejercicio opción D=', strikD) \n",
        "primaD = float(input('Prima de la opción D: ') or 8)          \n",
        "print('Prima de la opción D=', primaD)\n",
        "print()\n",
        "\n",
        "# Evolución de precios del activo subyacente\n",
        "start=80\n",
        "stop=141\n",
        "\n",
        "subyacente = list(range(start,stop))\n",
        "# print(subyacente)\n",
        "\n",
        "# Evolución precios subyacente para opción A\n",
        "subyacenteA=[0]*(stop-start)\n",
        "if tipoA.lower()=='call':\n",
        "  for i in range(stop-start):\n",
        "    subyacenteA[i] = subyacente[i]\n",
        "else:\n",
        "  for i in range(stop-start):\n",
        "    subyacenteA[i] = strikA - subyacente[i] + strikA\n",
        "# print(subyacenteA)\n",
        "\n",
        "# Evolución precios subyacente para opción B\n",
        "subyacenteB=[0]*(stop-start)\n",
        "if tipoB.lower()=='call':\n",
        "  for i in range(stop-start):\n",
        "    subyacenteB[i] = subyacente[i]\n",
        "else:\n",
        "  for i in range(stop-start):\n",
        "    subyacenteB[i] = strikB - subyacente[i] + strikB\n",
        "# print(subyacenteB)\n",
        "\n",
        "# Evolución precios subyacente para opción C\n",
        "subyacenteC=[0]*(stop-start)\n",
        "if tipoC.lower()=='call':\n",
        "  for i in range(stop-start):\n",
        "    subyacenteC[i] = subyacente[i]\n",
        "else:\n",
        "  for i in range(stop-start):\n",
        "    subyacenteC[i] = strikC - subyacente[i] + strikC\n",
        "# print(subyacenteC)\n",
        "\n",
        "# Evolución precios subyacente para opción D\n",
        "subyacenteD=[0]*(stop-start)\n",
        "if tipoD.lower()=='call':\n",
        "  for i in range(stop-start):\n",
        "    subyacenteD[i] = subyacente[i]\n",
        "else:\n",
        "  for i in range(stop-start):\n",
        "    subyacenteD[i] = strikD - subyacente[i] + strikD\n",
        "# print(subyacenteD)\n",
        "\n"
      ],
      "metadata": {
        "id": "0TPR6OC4TXrs",
        "colab": {
          "base_uri": "https://localhost:8080/"
        },
        "outputId": "791d40c4-6a90-4af0-a65d-82c541522d4e"
      },
      "execution_count": 45,
      "outputs": [
        {
          "output_type": "stream",
          "name": "stdout",
          "text": [
            "Número de contratos opción A: \n",
            "Número opciones A= 1.0\n",
            "Operación con opción A: Compra o Venta. \n",
            "Tipo de operación de la opción A: Compra\n",
            "Tipo de opción: Call o Put. \n",
            "Tipo de la opción A: CALL\n",
            "Precio de ejercicio opción A: \n",
            "Precio de ejercicio opción A= 90.0\n",
            "Prima de la opción A: \n",
            "Prima de la opción A= 8.0\n",
            "\n",
            "Número de contratos opción B: \n",
            "Número opciones B= 1.0\n",
            "Operación con opción B: Compra o Venta. \n",
            "Tipo de operación de la opción B: Compra\n",
            "Tipo de opción: Call o Put. \n",
            "Tipo de la opción B: CALL\n",
            "Precio de ejercicio opción B: \n",
            "Precio de ejercicio opción B= 100.0\n",
            "Prima de la opción B: \n",
            "Prima de la opción B= 6.0\n",
            "\n",
            "Número de contratos opción C: \n",
            "Número opciones C= 1.0\n",
            "Operación con opción C: Compra o Venta. \n",
            "Tipo de operación de la opción C: Compra\n",
            "Tipo de opción: Call o Put. \n",
            "Tipo de la opción C: CALL\n",
            "Precio de ejercicio opción C: \n",
            "Precio de ejercicio opción C= 120.0\n",
            "Prima de la opción C: \n",
            "Prima de la opción C= 6.0\n",
            "\n",
            "Número de contratos opción D: \n",
            "Número opciones D= 1.0\n",
            "Operación con opción D: Compra o Venta. \n",
            "Tipo de operación de la opción D: Compra\n",
            "Tipo de opción: Call o Put. \n",
            "Tipo de la opción D: CALL\n",
            "Precio de ejercicio opción D: \n",
            "Precio de ejercicio opción D= 130.0\n",
            "Prima de la opción D: \n",
            "Prima de la opción D= 8.0\n",
            "\n",
            "[80, 81, 82, 83, 84, 85, 86, 87, 88, 89, 90, 91, 92, 93, 94, 95, 96, 97, 98, 99, 100, 101, 102, 103, 104, 105, 106, 107, 108, 109, 110, 111, 112, 113, 114, 115, 116, 117, 118, 119, 120, 121, 122, 123, 124, 125, 126, 127, 128, 129, 130, 131, 132, 133, 134, 135, 136, 137, 138, 139, 140]\n",
            "[80, 81, 82, 83, 84, 85, 86, 87, 88, 89, 90, 91, 92, 93, 94, 95, 96, 97, 98, 99, 100, 101, 102, 103, 104, 105, 106, 107, 108, 109, 110, 111, 112, 113, 114, 115, 116, 117, 118, 119, 120, 121, 122, 123, 124, 125, 126, 127, 128, 129, 130, 131, 132, 133, 134, 135, 136, 137, 138, 139, 140]\n",
            "[80, 81, 82, 83, 84, 85, 86, 87, 88, 89, 90, 91, 92, 93, 94, 95, 96, 97, 98, 99, 100, 101, 102, 103, 104, 105, 106, 107, 108, 109, 110, 111, 112, 113, 114, 115, 116, 117, 118, 119, 120, 121, 122, 123, 124, 125, 126, 127, 128, 129, 130, 131, 132, 133, 134, 135, 136, 137, 138, 139, 140]\n",
            "[80, 81, 82, 83, 84, 85, 86, 87, 88, 89, 90, 91, 92, 93, 94, 95, 96, 97, 98, 99, 100, 101, 102, 103, 104, 105, 106, 107, 108, 109, 110, 111, 112, 113, 114, 115, 116, 117, 118, 119, 120, 121, 122, 123, 124, 125, 126, 127, 128, 129, 130, 131, 132, 133, 134, 135, 136, 137, 138, 139, 140]\n",
            "[80, 81, 82, 83, 84, 85, 86, 87, 88, 89, 90, 91, 92, 93, 94, 95, 96, 97, 98, 99, 100, 101, 102, 103, 104, 105, 106, 107, 108, 109, 110, 111, 112, 113, 114, 115, 116, 117, 118, 119, 120, 121, 122, 123, 124, 125, 126, 127, 128, 129, 130, 131, 132, 133, 134, 135, 136, 137, 138, 139, 140]\n"
          ]
        }
      ]
    },
    {
      "cell_type": "code",
      "source": [
        "strikA=90\n",
        "start=80\n",
        "stop=141\n",
        "subyacente = list(range(start,stop))\n",
        "print(subyacente)\n",
        "subyacenteA=[0]*(stop-start)\n",
        "for i in range(stop-start):\n",
        "  subyacenteA[i] = strikA - subyacente[i] + strikA\n",
        "print(subyacenteA)"
      ],
      "metadata": {
        "colab": {
          "base_uri": "https://localhost:8080/"
        },
        "id": "Pvfq84qjZ_qt",
        "outputId": "69460682-fff2-4fc5-d25a-f3343c05066c"
      },
      "execution_count": 27,
      "outputs": [
        {
          "output_type": "stream",
          "name": "stdout",
          "text": [
            "[80, 81, 82, 83, 84, 85, 86, 87, 88, 89, 90, 91, 92, 93, 94, 95, 96, 97, 98, 99, 100, 101, 102, 103, 104, 105, 106, 107, 108, 109, 110, 111, 112, 113, 114, 115, 116, 117, 118, 119, 120, 121, 122, 123, 124, 125, 126, 127, 128, 129, 130, 131, 132, 133, 134, 135, 136, 137, 138, 139, 140]\n",
            "[100, 99, 98, 97, 96, 95, 94, 93, 92, 91, 90, 89, 88, 87, 86, 85, 84, 83, 82, 81, 80, 79, 78, 77, 76, 75, 74, 73, 72, 71, 70, 69, 68, 67, 66, 65, 64, 63, 62, 61, 60, 59, 58, 57, 56, 55, 54, 53, 52, 51, 50, 49, 48, 47, 46, 45, 44, 43, 42, 41, 40]\n"
          ]
        }
      ]
    },
    {
      "cell_type": "code",
      "source": [
        "tipoA='put'\n",
        "strikA=90\n",
        "# Evolución de precios del activo subyacente\n",
        "start=80\n",
        "stop=141\n",
        "\n",
        "subyacente = list(range(start,stop))\n",
        "print(subyacente)\n",
        "\n",
        "subyacenteA=[0]*(stop-start)\n",
        "if tipoA.lower()=='call':\n",
        "  for i in range(stop-start):\n",
        "    subyacenteA[i] = subyacente[i]\n",
        "else:\n",
        "  for i in range(stop-start):\n",
        "    subyacenteA[i] = strikA - subyacente[i] + strikA\n",
        "print(subyacenteA)"
      ],
      "metadata": {
        "colab": {
          "base_uri": "https://localhost:8080/"
        },
        "id": "U4Zi1F6dnyjd",
        "outputId": "5ded51f6-a0e3-4790-bca3-cf16cad0f513"
      },
      "execution_count": 29,
      "outputs": [
        {
          "output_type": "stream",
          "name": "stdout",
          "text": [
            "[80, 81, 82, 83, 84, 85, 86, 87, 88, 89, 90, 91, 92, 93, 94, 95, 96, 97, 98, 99, 100, 101, 102, 103, 104, 105, 106, 107, 108, 109, 110, 111, 112, 113, 114, 115, 116, 117, 118, 119, 120, 121, 122, 123, 124, 125, 126, 127, 128, 129, 130, 131, 132, 133, 134, 135, 136, 137, 138, 139, 140]\n",
            "[100, 99, 98, 97, 96, 95, 94, 93, 92, 91, 90, 89, 88, 87, 86, 85, 84, 83, 82, 81, 80, 79, 78, 77, 76, 75, 74, 73, 72, 71, 70, 69, 68, 67, 66, 65, 64, 63, 62, 61, 60, 59, 58, 57, 56, 55, 54, 53, 52, 51, 50, 49, 48, 47, 46, 45, 44, 43, 42, 41, 40]\n"
          ]
        }
      ]
    },
    {
      "cell_type": "code",
      "source": [
        "tipo = input('Tipo de opción: Call o Put. ') or 'Call'\n",
        "if tipo.lower() == 'call':\n",
        "    print('Tipo de la opción: CALL')\n",
        "else:\n",
        "    print('Tipo de la opción: PUT')"
      ],
      "metadata": {
        "colab": {
          "base_uri": "https://localhost:8080/"
        },
        "id": "XrBIxuairoF6",
        "outputId": "62e97a9c-795d-4572-c5a7-4424bfc325d4"
      },
      "execution_count": 42,
      "outputs": [
        {
          "output_type": "stream",
          "name": "stdout",
          "text": [
            "Tipo de opción: Call o Put. \n",
            "Tipo de la opción: CALL\n"
          ]
        }
      ]
    }
  ]
}